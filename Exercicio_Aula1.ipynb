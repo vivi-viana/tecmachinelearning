{
  "nbformat": 4,
  "nbformat_minor": 0,
  "metadata": {
    "colab": {
      "provenance": [],
      "authorship_tag": "ABX9TyM6l/nwWOtBLcHOMB5kEeeH",
      "include_colab_link": true
    },
    "kernelspec": {
      "name": "python3",
      "display_name": "Python 3"
    },
    "language_info": {
      "name": "python"
    }
  },
  "cells": [
    {
      "cell_type": "markdown",
      "metadata": {
        "id": "view-in-github",
        "colab_type": "text"
      },
      "source": [
        "<a href=\"https://colab.research.google.com/github/vivi-viana/tecmachinelearning/blob/main/Exercicio_Aula1.ipynb\" target=\"_parent\"><img src=\"https://colab.research.google.com/assets/colab-badge.svg\" alt=\"Open In Colab\"/></a>"
      ]
    },
    {
      "cell_type": "markdown",
      "source": [
        "\n",
        "\n",
        "1. \n"
      ],
      "metadata": {
        "id": "qlHJvyl-WuIk"
      }
    },
    {
      "cell_type": "code",
      "execution_count": 4,
      "metadata": {
        "colab": {
          "base_uri": "https://localhost:8080/"
        },
        "id": "l6iso_aaRyZz",
        "outputId": "7f88353f-fb9f-45bc-801d-9a01cef4d572"
      },
      "outputs": [
        {
          "output_type": "stream",
          "name": "stdout",
          "text": [
            "A soma de a + b é:soma\n"
          ]
        }
      ],
      "source": [
        "a = 3\n",
        "b = 4\n",
        "soma = a + b\n",
        "print(\"A soma de a + b é:soma\")\n"
      ]
    },
    {
      "cell_type": "markdown",
      "source": [
        "2."
      ],
      "metadata": {
        "id": "NTr5yzFpXAnj"
      }
    },
    {
      "cell_type": "code",
      "source": [
        "a = 3\n",
        "b = 4\n",
        "soma = a + b\n",
        "print(\"A soma de a + b é:\",soma)"
      ],
      "metadata": {
        "colab": {
          "base_uri": "https://localhost:8080/"
        },
        "id": "WY3SGPtaTyTB",
        "outputId": "85492111-6b4a-4fc5-86bb-8191d05aaf5e"
      },
      "execution_count": 2,
      "outputs": [
        {
          "output_type": "stream",
          "name": "stdout",
          "text": [
            "A soma de a + b é: 7\n"
          ]
        }
      ]
    },
    {
      "cell_type": "markdown",
      "source": [
        "3."
      ],
      "metadata": {
        "id": "LgTpsDpHXE5f"
      }
    },
    {
      "cell_type": "code",
      "source": [
        "a = 3\n",
        "b = 4\n",
        "soma = a + b\n",
        "print(\"A soma de\",a,\"+\" ,b,\"é\",soma)"
      ],
      "metadata": {
        "colab": {
          "base_uri": "https://localhost:8080/"
        },
        "id": "EUwdlIdXVakA",
        "outputId": "e6485ecc-113a-423e-aa56-c7cf46964cc1"
      },
      "execution_count": 5,
      "outputs": [
        {
          "output_type": "stream",
          "name": "stdout",
          "text": [
            "A soma de 3 + 4 é 7\n"
          ]
        }
      ]
    },
    {
      "cell_type": "markdown",
      "source": [
        "4."
      ],
      "metadata": {
        "id": "lFQgarB6XkLq"
      }
    },
    {
      "cell_type": "code",
      "source": [
        "PROMPT_1 = \"Digite o primeiro numero: \"\n",
        "PROMPT_2 = \"Digite o primeiro numero: \"\n",
        "\n",
        "a = input(PROMPT_1)\n",
        "b = input(PROMPT_2)\n",
        "\n",
        "soma = a + b\n",
        "print(\"A soma de\",a,\"+\", b, \"é:\", soma)"
      ],
      "metadata": {
        "colab": {
          "base_uri": "https://localhost:8080/"
        },
        "id": "HJL2D6UBXiaQ",
        "outputId": "2b33bef1-de52-49a5-b954-e156e1212f19"
      },
      "execution_count": 6,
      "outputs": [
        {
          "output_type": "stream",
          "name": "stdout",
          "text": [
            "Digite o primeiro numero: 2\n",
            "Digite o primeiro numero: 5\n",
            "A soma de 2 + 5 é: 25\n"
          ]
        }
      ]
    },
    {
      "cell_type": "markdown",
      "source": [
        "5."
      ],
      "metadata": {
        "id": "jQS58nJZYgig"
      }
    },
    {
      "cell_type": "code",
      "source": [
        "a_str = input(\"Digite o primeiro numero:\")\n",
        "b_str = input(\"Digite o segundo numero:\")\n",
        "a_str = int(a_str)# convert string/texto para inteiro\n",
        "b_str = int(a_str)# convert string/texto para inteiro\n",
        "soma = a_int + b_int\n",
        "print(\"A soma de\",a_int,\"+\",b_int,\"é igual a\",soma)"
      ],
      "metadata": {
        "colab": {
          "base_uri": "https://localhost:8080/",
          "height": 252
        },
        "id": "cSaAJsJeYfDw",
        "outputId": "4b90b299-b03e-4d75-bcba-8f42d6d823b3"
      },
      "execution_count": 10,
      "outputs": [
        {
          "name": "stdout",
          "output_type": "stream",
          "text": [
            "Digite o primeiro numero:5\n",
            "Digite o segundo numero:6\n"
          ]
        },
        {
          "output_type": "error",
          "ename": "NameError",
          "evalue": "ignored",
          "traceback": [
            "\u001b[0;31m---------------------------------------------------------------------------\u001b[0m",
            "\u001b[0;31mNameError\u001b[0m                                 Traceback (most recent call last)",
            "\u001b[0;32m<ipython-input-10-c3d1dbffce12>\u001b[0m in \u001b[0;36m<module>\u001b[0;34m\u001b[0m\n\u001b[1;32m      3\u001b[0m \u001b[0ma_str\u001b[0m \u001b[0;34m=\u001b[0m \u001b[0mint\u001b[0m\u001b[0;34m(\u001b[0m\u001b[0ma_str\u001b[0m\u001b[0;34m)\u001b[0m\u001b[0;31m# convert string/texto para inteiro\u001b[0m\u001b[0;34m\u001b[0m\u001b[0;34m\u001b[0m\u001b[0m\n\u001b[1;32m      4\u001b[0m \u001b[0mb_str\u001b[0m \u001b[0;34m=\u001b[0m \u001b[0mint\u001b[0m\u001b[0;34m(\u001b[0m\u001b[0ma_str\u001b[0m\u001b[0;34m)\u001b[0m\u001b[0;31m# convert string/texto para inteiro\u001b[0m\u001b[0;34m\u001b[0m\u001b[0;34m\u001b[0m\u001b[0m\n\u001b[0;32m----> 5\u001b[0;31m \u001b[0msoma\u001b[0m \u001b[0;34m=\u001b[0m \u001b[0ma_int\u001b[0m \u001b[0;34m+\u001b[0m \u001b[0mb_int\u001b[0m\u001b[0;34m\u001b[0m\u001b[0;34m\u001b[0m\u001b[0m\n\u001b[0m\u001b[1;32m      6\u001b[0m \u001b[0mprint\u001b[0m\u001b[0;34m(\u001b[0m\u001b[0;34m\"A soma de\"\u001b[0m\u001b[0;34m,\u001b[0m\u001b[0ma_int\u001b[0m\u001b[0;34m,\u001b[0m\u001b[0;34m\"+\"\u001b[0m\u001b[0;34m,\u001b[0m\u001b[0mb_int\u001b[0m\u001b[0;34m,\u001b[0m\u001b[0;34m\"é igual a\"\u001b[0m\u001b[0;34m,\u001b[0m\u001b[0msoma\u001b[0m\u001b[0;34m)\u001b[0m\u001b[0;34m\u001b[0m\u001b[0;34m\u001b[0m\u001b[0m\n",
            "\u001b[0;31mNameError\u001b[0m: name 'a_int' is not defined"
          ]
        }
      ]
    },
    {
      "cell_type": "markdown",
      "source": [
        "6."
      ],
      "metadata": {
        "id": "HyhcmcbZaX9W"
      }
    },
    {
      "cell_type": "code",
      "source": [
        "a = int(input(\"Digite o primeiro numero: \"))\n",
        "b = int(input(\"Digite o segundo numero: \"))\n",
        "soma = a + b\n",
        "print(\"A soma de\", a, \"+\", b, \"é igual a\", soma)"
      ],
      "metadata": {
        "colab": {
          "base_uri": "https://localhost:8080/"
        },
        "id": "dGQDPnE4aXEY",
        "outputId": "9bda29bf-789e-4b98-8370-fefbb0df9339"
      },
      "execution_count": 11,
      "outputs": [
        {
          "output_type": "stream",
          "name": "stdout",
          "text": [
            "Digite o primeiro numero: 6\n",
            "Digite o segundo numero: 8\n",
            "A soma de 6 + 8 é igual a 14\n"
          ]
        }
      ]
    }
  ]
}