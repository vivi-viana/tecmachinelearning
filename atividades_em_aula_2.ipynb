{
  "nbformat": 4,
  "nbformat_minor": 0,
  "metadata": {
    "colab": {
      "provenance": [],
      "authorship_tag": "ABX9TyPcjxrLPkHXzJV+PC8Vi+mP",
      "include_colab_link": true
    },
    "kernelspec": {
      "name": "python3",
      "display_name": "Python 3"
    },
    "language_info": {
      "name": "python"
    }
  },
  "cells": [
    {
      "cell_type": "markdown",
      "metadata": {
        "id": "view-in-github",
        "colab_type": "text"
      },
      "source": [
        "<a href=\"https://colab.research.google.com/github/vivi-viana/tecmachinelearning/blob/main/atividades_em_aula_2.ipynb\" target=\"_parent\"><img src=\"https://colab.research.google.com/assets/colab-badge.svg\" alt=\"Open In Colab\"/></a>"
      ]
    },
    {
      "cell_type": "code",
      "source": [
        "idade1 = 20"
      ],
      "metadata": {
        "id": "3R8wuEisUkNW"
      },
      "execution_count": null,
      "outputs": []
    },
    {
      "cell_type": "code",
      "source": [
        "idade2 = 25"
      ],
      "metadata": {
        "id": "VlBhTm3LUj2G"
      },
      "execution_count": null,
      "outputs": []
    },
    {
      "cell_type": "code",
      "execution_count": null,
      "metadata": {
        "colab": {
          "base_uri": "https://localhost:8080/"
        },
        "id": "DklNF_HQScoD",
        "outputId": "a46b15d4-5ca4-4a73-80b0-5e51c3ecb622"
      },
      "outputs": [
        {
          "output_type": "execute_result",
          "data": {
            "text/plain": [
              "45"
            ]
          },
          "metadata": {},
          "execution_count": 4
        }
      ],
      "source": [
        "idade1 + idade2"
      ]
    },
    {
      "cell_type": "code",
      "source": [
        "idade1 + idade2"
      ],
      "metadata": {
        "colab": {
          "base_uri": "https://localhost:8080/"
        },
        "id": "iNdP-gyeSzc2",
        "outputId": "9f8be850-d192-44ab-b36d-f6be8f811dfe"
      },
      "execution_count": null,
      "outputs": [
        {
          "output_type": "execute_result",
          "data": {
            "text/plain": [
              "45"
            ]
          },
          "metadata": {},
          "execution_count": 5
        }
      ]
    },
    {
      "cell_type": "code",
      "source": [
        "somaidades = idade1 + idade2"
      ],
      "metadata": {
        "id": "WrdoQz9fS5Tu"
      },
      "execution_count": null,
      "outputs": []
    },
    {
      "cell_type": "code",
      "source": [
        "idade1 - idade2"
      ],
      "metadata": {
        "colab": {
          "base_uri": "https://localhost:8080/"
        },
        "id": "m2Ri_4c7U9c5",
        "outputId": "fce00e0b-e2bb-405d-e90d-2147e2e5528c"
      },
      "execution_count": null,
      "outputs": [
        {
          "output_type": "execute_result",
          "data": {
            "text/plain": [
              "-5"
            ]
          },
          "metadata": {},
          "execution_count": 7
        }
      ]
    },
    {
      "cell_type": "code",
      "source": [
        "idade1 * idade2"
      ],
      "metadata": {
        "colab": {
          "base_uri": "https://localhost:8080/"
        },
        "id": "2_C7rWajU9Mh",
        "outputId": "5edaa356-4648-4b0e-99bb-1f5fb5a8150e"
      },
      "execution_count": null,
      "outputs": [
        {
          "output_type": "execute_result",
          "data": {
            "text/plain": [
              "500"
            ]
          },
          "metadata": {},
          "execution_count": 8
        }
      ]
    },
    {
      "cell_type": "code",
      "source": [
        "idade1 / idade2"
      ],
      "metadata": {
        "colab": {
          "base_uri": "https://localhost:8080/"
        },
        "id": "xsLfOP92S9uG",
        "outputId": "fad779b8-e90f-4bf0-832f-c6feeebc14f4"
      },
      "execution_count": null,
      "outputs": [
        {
          "output_type": "execute_result",
          "data": {
            "text/plain": [
              "0.8"
            ]
          },
          "metadata": {},
          "execution_count": 9
        }
      ]
    },
    {
      "cell_type": "code",
      "source": [
        "idade1 + 10"
      ],
      "metadata": {
        "colab": {
          "base_uri": "https://localhost:8080/"
        },
        "id": "B3_OpMlsTPGw",
        "outputId": "b904dc99-f077-4d5b-e418-02240be3a446"
      },
      "execution_count": null,
      "outputs": [
        {
          "output_type": "execute_result",
          "data": {
            "text/plain": [
              "30"
            ]
          },
          "metadata": {},
          "execution_count": 10
        }
      ]
    },
    {
      "cell_type": "code",
      "source": [
        "idade1 - 15"
      ],
      "metadata": {
        "colab": {
          "base_uri": "https://localhost:8080/"
        },
        "id": "2T_e-mDATKPe",
        "outputId": "570d0f57-5d96-4178-fd77-a271c33cbdbb"
      },
      "execution_count": null,
      "outputs": [
        {
          "output_type": "execute_result",
          "data": {
            "text/plain": [
              "5"
            ]
          },
          "metadata": {},
          "execution_count": 11
        }
      ]
    },
    {
      "cell_type": "code",
      "source": [
        "idade1 * 4"
      ],
      "metadata": {
        "colab": {
          "base_uri": "https://localhost:8080/"
        },
        "id": "FBWaD_puTKVN",
        "outputId": "0dc46e1e-dcde-4098-eb90-b22d145a4670"
      },
      "execution_count": null,
      "outputs": [
        {
          "output_type": "execute_result",
          "data": {
            "text/plain": [
              "80"
            ]
          },
          "metadata": {},
          "execution_count": 12
        }
      ]
    },
    {
      "cell_type": "code",
      "source": [
        "idade1 / 5"
      ],
      "metadata": {
        "colab": {
          "base_uri": "https://localhost:8080/"
        },
        "id": "6mVNouIwTKYn",
        "outputId": "0ace98e5-9af1-453a-afe7-6b82cb902d8e"
      },
      "execution_count": null,
      "outputs": [
        {
          "output_type": "execute_result",
          "data": {
            "text/plain": [
              "4.0"
            ]
          },
          "metadata": {},
          "execution_count": 13
        }
      ]
    },
    {
      "cell_type": "code",
      "source": [
        "2 * (idade1 + idade2)"
      ],
      "metadata": {
        "colab": {
          "base_uri": "https://localhost:8080/"
        },
        "id": "85Evif-CTcUv",
        "outputId": "cf673729-1481-40ce-e7f5-d219ecd68dee"
      },
      "execution_count": null,
      "outputs": [
        {
          "output_type": "execute_result",
          "data": {
            "text/plain": [
              "90"
            ]
          },
          "metadata": {},
          "execution_count": 14
        }
      ]
    },
    {
      "cell_type": "code",
      "source": [
        "2 * (idade1 + 3 + idade2/4)"
      ],
      "metadata": {
        "colab": {
          "base_uri": "https://localhost:8080/"
        },
        "id": "eVVVsSk7TcXW",
        "outputId": "3f34d4e2-c49a-486e-c520-6f577c477110"
      },
      "execution_count": null,
      "outputs": [
        {
          "output_type": "execute_result",
          "data": {
            "text/plain": [
              "58.5"
            ]
          },
          "metadata": {},
          "execution_count": 15
        }
      ]
    },
    {
      "cell_type": "code",
      "source": [
        "2 * (idade1 + 3 * idade2) / 4"
      ],
      "metadata": {
        "colab": {
          "base_uri": "https://localhost:8080/"
        },
        "id": "jGC4O_slTcZW",
        "outputId": "67e3398b-d5ae-48a8-9164-fab3359efc03"
      },
      "execution_count": null,
      "outputs": [
        {
          "output_type": "execute_result",
          "data": {
            "text/plain": [
              "47.5"
            ]
          },
          "metadata": {},
          "execution_count": 16
        }
      ]
    },
    {
      "cell_type": "code",
      "source": [
        "idade1 ** 2"
      ],
      "metadata": {
        "colab": {
          "base_uri": "https://localhost:8080/"
        },
        "id": "FPi4L2lnTKgX",
        "outputId": "b4c8d558-fc8c-49c1-a8d6-ee8edc91ceb4"
      },
      "execution_count": null,
      "outputs": [
        {
          "output_type": "execute_result",
          "data": {
            "text/plain": [
              "400"
            ]
          },
          "metadata": {},
          "execution_count": 17
        }
      ]
    },
    {
      "cell_type": "code",
      "source": [
        "idade1 ** 3"
      ],
      "metadata": {
        "colab": {
          "base_uri": "https://localhost:8080/"
        },
        "id": "OvBe7KTJT5pe",
        "outputId": "73cd142e-b0ea-4cf2-d8f5-9f70ebb39734"
      },
      "execution_count": null,
      "outputs": [
        {
          "output_type": "execute_result",
          "data": {
            "text/plain": [
              "8000"
            ]
          },
          "metadata": {},
          "execution_count": 21
        }
      ]
    },
    {
      "cell_type": "code",
      "source": [
        "idade1 ** 2"
      ],
      "metadata": {
        "id": "qLra9QOQT56F"
      },
      "execution_count": null,
      "outputs": []
    },
    {
      "cell_type": "code",
      "source": [
        "15 ** 2"
      ],
      "metadata": {
        "colab": {
          "base_uri": "https://localhost:8080/"
        },
        "id": "D2e-H2zcT582",
        "outputId": "8ad95e62-3097-42cf-f600-2f9a79f3dbdd"
      },
      "execution_count": null,
      "outputs": [
        {
          "output_type": "execute_result",
          "data": {
            "text/plain": [
              "225"
            ]
          },
          "metadata": {},
          "execution_count": 22
        }
      ]
    },
    {
      "cell_type": "code",
      "source": [
        "idade2 // idade1"
      ],
      "metadata": {
        "colab": {
          "base_uri": "https://localhost:8080/"
        },
        "id": "RLdMxGFNUUrm",
        "outputId": "1069f7c8-ed78-412f-af63-f5ea3dd9e62f"
      },
      "execution_count": null,
      "outputs": [
        {
          "output_type": "execute_result",
          "data": {
            "text/plain": [
              "1"
            ]
          },
          "metadata": {},
          "execution_count": 23
        }
      ]
    },
    {
      "cell_type": "code",
      "source": [
        "idade2 / idade1"
      ],
      "metadata": {
        "colab": {
          "base_uri": "https://localhost:8080/"
        },
        "id": "4i6mTiYQUYCF",
        "outputId": "27754450-937b-4287-c977-2dbb9d14744a"
      },
      "execution_count": null,
      "outputs": [
        {
          "output_type": "execute_result",
          "data": {
            "text/plain": [
              "1.25"
            ]
          },
          "metadata": {},
          "execution_count": 24
        }
      ]
    },
    {
      "cell_type": "code",
      "source": [
        "idade2 % idade1"
      ],
      "metadata": {
        "colab": {
          "base_uri": "https://localhost:8080/"
        },
        "id": "_uxSNe-6UYI9",
        "outputId": "8f9961d6-76d8-4268-9398-f2fac745e87e"
      },
      "execution_count": null,
      "outputs": [
        {
          "output_type": "execute_result",
          "data": {
            "text/plain": [
              "5"
            ]
          },
          "metadata": {},
          "execution_count": 25
        }
      ]
    },
    {
      "cell_type": "code",
      "source": [
        "nome = 'Viviane'\n",
        "sobrenome = 'Viana'"
      ],
      "metadata": {
        "id": "7OhA1qKjUYQV"
      },
      "execution_count": null,
      "outputs": []
    },
    {
      "cell_type": "code",
      "source": [
        "print (nome + sobrenome)"
      ],
      "metadata": {
        "colab": {
          "base_uri": "https://localhost:8080/"
        },
        "id": "j4fhJ8zgUYTd",
        "outputId": "c1a91f46-4373-4509-aaf0-05bf7770dd36"
      },
      "execution_count": null,
      "outputs": [
        {
          "output_type": "stream",
          "name": "stdout",
          "text": [
            "VivianeViana\n"
          ]
        }
      ]
    },
    {
      "cell_type": "code",
      "source": [
        "print('Olá, ', nome , 'você tem', idade1 + 15,'anos.')"
      ],
      "metadata": {
        "colab": {
          "base_uri": "https://localhost:8080/"
        },
        "id": "z5PUds02VDxo",
        "outputId": "f773eee6-5dcd-4455-86a0-a15c8ad4443c"
      },
      "execution_count": null,
      "outputs": [
        {
          "output_type": "stream",
          "name": "stdout",
          "text": [
            "Olá,  Viviane você tem 35 anos.\n"
          ]
        }
      ]
    },
    {
      "cell_type": "code",
      "source": [
        "print('Olá, ',nome,'\\n','você tem',idade1 + 15 , 'anos.')"
      ],
      "metadata": {
        "colab": {
          "base_uri": "https://localhost:8080/"
        },
        "id": "3MJOvHrhVDuQ",
        "outputId": "012aa380-22eb-40ff-d2ce-4ec809b6c347"
      },
      "execution_count": null,
      "outputs": [
        {
          "output_type": "stream",
          "name": "stdout",
          "text": [
            "Olá,  Viviane \n",
            " você tem 35 anos.\n"
          ]
        }
      ]
    },
    {
      "cell_type": "code",
      "source": [
        "input('Digite o seu nome: ')"
      ],
      "metadata": {
        "colab": {
          "base_uri": "https://localhost:8080/",
          "height": 53
        },
        "id": "7FZVCIlWVDaQ",
        "outputId": "2730327e-ba42-4323-dc9a-7f691977954e"
      },
      "execution_count": null,
      "outputs": [
        {
          "name": "stdout",
          "output_type": "stream",
          "text": [
            "Digite o seu nome: Viviane\n"
          ]
        },
        {
          "output_type": "execute_result",
          "data": {
            "text/plain": [
              "'Viviane'"
            ],
            "application/vnd.google.colaboratory.intrinsic+json": {
              "type": "string"
            }
          },
          "metadata": {},
          "execution_count": 30
        }
      ]
    },
    {
      "cell_type": "code",
      "source": [
        "int(input('Digite o seu nome: '))"
      ],
      "metadata": {
        "colab": {
          "base_uri": "https://localhost:8080/"
        },
        "id": "8eHlePnfX1A9",
        "outputId": "90ace488-e145-4874-bbcc-08b9c01eab91"
      },
      "execution_count": null,
      "outputs": [
        {
          "name": "stdout",
          "output_type": "stream",
          "text": [
            "Digite o seu nome: 15\n"
          ]
        },
        {
          "output_type": "execute_result",
          "data": {
            "text/plain": [
              "15"
            ]
          },
          "metadata": {},
          "execution_count": 33
        }
      ]
    },
    {
      "cell_type": "code",
      "source": [
        "valor1 = input('Digite um número inteiro: ')\n",
        "valor2 = input('Digite outro número inteiro: ')"
      ],
      "metadata": {
        "colab": {
          "base_uri": "https://localhost:8080/"
        },
        "id": "nNWS9V8hZIjX",
        "outputId": "8fbe864e-86f0-45b4-857d-fa74e615653b"
      },
      "execution_count": null,
      "outputs": [
        {
          "name": "stdout",
          "output_type": "stream",
          "text": [
            "Digite um número inteiro: 15\n",
            "Digite outro número inteiro: 10\n"
          ]
        }
      ]
    },
    {
      "cell_type": "code",
      "source": [
        "print(valor1 == valor2)\n",
        "print(valor1 > valor2)\n",
        "print(valor1 < valor2)\n",
        "print(valor1 >= valor2)\n",
        "print(valor1 <= valor2)"
      ],
      "metadata": {
        "colab": {
          "base_uri": "https://localhost:8080/"
        },
        "id": "u9-3Q32AaYYH",
        "outputId": "0947131a-65c2-48d0-90a4-2ff567f8d6bf"
      },
      "execution_count": null,
      "outputs": [
        {
          "output_type": "stream",
          "name": "stdout",
          "text": [
            "False\n",
            "True\n",
            "False\n",
            "True\n",
            "False\n"
          ]
        }
      ]
    },
    {
      "cell_type": "code",
      "source": [
        "numero = 10\n",
        "print(numero>0 and numero <10)"
      ],
      "metadata": {
        "colab": {
          "base_uri": "https://localhost:8080/"
        },
        "id": "WmtRY0RSbWT_",
        "outputId": "ebbf564a-ae1c-4917-d8db-39304f397ebd"
      },
      "execution_count": null,
      "outputs": [
        {
          "output_type": "stream",
          "name": "stdout",
          "text": [
            "False\n"
          ]
        }
      ]
    },
    {
      "cell_type": "code",
      "source": [
        "numero = 10 \n",
        "print(numero>0 or numero<10)"
      ],
      "metadata": {
        "colab": {
          "base_uri": "https://localhost:8080/"
        },
        "id": "18wdRMhwcwMM",
        "outputId": "ee5f4d59-c798-4642-f0cf-b00ad302cf55"
      },
      "execution_count": null,
      "outputs": [
        {
          "output_type": "stream",
          "name": "stdout",
          "text": [
            "True\n"
          ]
        }
      ]
    },
    {
      "cell_type": "code",
      "source": [
        "if ():\n",
        "  print()\n",
        "else:\n",
        "  print()"
      ],
      "metadata": {
        "id": "r0lygHfjdC12"
      },
      "execution_count": null,
      "outputs": []
    },
    {
      "cell_type": "markdown",
      "source": [
        "**Desafio 1**"
      ],
      "metadata": {
        "id": "rn_zexDSd-kr"
      }
    },
    {
      "cell_type": "code",
      "source": [
        "n1 = float(input('Digite um numero: '))\n"
      ],
      "metadata": {
        "colab": {
          "base_uri": "https://localhost:8080/"
        },
        "id": "wyzmY2Ntdqd0",
        "outputId": "8114fb1f-41be-43b3-c7db-c68d9b5189de"
      },
      "execution_count": null,
      "outputs": [
        {
          "name": "stdout",
          "output_type": "stream",
          "text": [
            "Digite um numero: 10\n"
          ]
        }
      ]
    },
    {
      "cell_type": "code",
      "source": [
        "resto = n1 % 2"
      ],
      "metadata": {
        "id": "-x-lkML4fXQT"
      },
      "execution_count": null,
      "outputs": []
    },
    {
      "cell_type": "code",
      "source": [
        "if resto ==  0:\n",
        "  print(n1,'este numero é par.')\n",
        "else:\n",
        "  print(n1,'este número é impar.')"
      ],
      "metadata": {
        "colab": {
          "base_uri": "https://localhost:8080/"
        },
        "id": "UW9CbDsHeOQe",
        "outputId": "1ed6643b-2c12-4a65-f86e-bdce4dd13a7a"
      },
      "execution_count": null,
      "outputs": [
        {
          "output_type": "stream",
          "name": "stdout",
          "text": [
            "10.0 este numero é par.\n"
          ]
        }
      ]
    },
    {
      "cell_type": "code",
      "source": [
        "n = int (input('Digite um número: '))\n",
        "if n % 2 == 0 : # se n é multiplo 2\n",
        "  print(n, 'par')\n",
        "else: # se n não é multiplo de 2\n",
        "  print(n,'é impar')\n",
        "\n",
        "  print('Fim.')"
      ],
      "metadata": {
        "colab": {
          "base_uri": "https://localhost:8080/"
        },
        "id": "-cCbdKrXf2TB",
        "outputId": "dfefb4cc-4e19-4c16-81cf-12779b567653"
      },
      "execution_count": null,
      "outputs": [
        {
          "output_type": "stream",
          "name": "stdout",
          "text": [
            "Digite um número: 10\n",
            "10 par\n"
          ]
        }
      ]
    },
    {
      "cell_type": "code",
      "source": [
        "n = int (input('Digite um número: '))\n",
        "if n % 2 == 0 : # se n é multiplo 2\n",
        "  print(n, 'par')\n",
        "if n % 2 != 0: # se n não é multiplo de 2\n",
        "  print(n,'é impar')\n",
        "\n",
        "  print('Fim.')"
      ],
      "metadata": {
        "colab": {
          "base_uri": "https://localhost:8080/"
        },
        "id": "y60nT-thg-s7",
        "outputId": "1280ce90-ee18-4237-fe53-bc479c1a2fe9"
      },
      "execution_count": null,
      "outputs": [
        {
          "output_type": "stream",
          "name": "stdout",
          "text": [
            "Digite um número: 15\n",
            "15 é impar\n",
            "Fim.\n"
          ]
        }
      ]
    },
    {
      "cell_type": "code",
      "source": [
        "cupom = input('Digite o cupom: ')"
      ],
      "metadata": {
        "colab": {
          "base_uri": "https://localhost:8080/"
        },
        "id": "zIinm_N3hI1-",
        "outputId": "831ebd5f-70e3-43c0-9949-c3c9f22787b3"
      },
      "execution_count": null,
      "outputs": [
        {
          "name": "stdout",
          "output_type": "stream",
          "text": [
            "Digite o cupom: aula1\n"
          ]
        }
      ]
    },
    {
      "cell_type": "code",
      "source": [
        "if ( cupom == 'aula1' or cupom == 'aula2'):\n",
        "  print ('você ganhou 10% de desconto')"
      ],
      "metadata": {
        "colab": {
          "base_uri": "https://localhost:8080/"
        },
        "id": "cG04OsFzhWUG",
        "outputId": "f6186053-aa8b-433f-8490-0f0efb6c22ea"
      },
      "execution_count": null,
      "outputs": [
        {
          "output_type": "stream",
          "name": "stdout",
          "text": [
            "você ganhou 10% de desconto\n"
          ]
        }
      ]
    },
    {
      "cell_type": "code",
      "source": [
        "if ( cupom == 'aula1' or cupom == 'aula2'):\n",
        "  print ('você ganhou 10% de desconto')\n",
        "else:\n",
        "  print('cupom inválido')"
      ],
      "metadata": {
        "colab": {
          "base_uri": "https://localhost:8080/"
        },
        "id": "Sm60fweAhrJr",
        "outputId": "307ac07a-a69b-4aba-f209-33187d4e4209"
      },
      "execution_count": null,
      "outputs": [
        {
          "output_type": "stream",
          "name": "stdout",
          "text": [
            "você ganhou 10% de desconto\n"
          ]
        }
      ]
    },
    {
      "cell_type": "markdown",
      "source": [
        "**Desafio 2**"
      ],
      "metadata": {
        "id": "nWMTQ-BPinvb"
      }
    },
    {
      "cell_type": "code",
      "source": [
        "cupom = input('Digite o cupom: ')"
      ],
      "metadata": {
        "colab": {
          "base_uri": "https://localhost:8080/"
        },
        "id": "tO2zx3LXi50q",
        "outputId": "d39b094d-d0a0-4d04-e51f-87b37c917de0"
      },
      "execution_count": null,
      "outputs": [
        {
          "name": "stdout",
          "output_type": "stream",
          "text": [
            "Digite o cupom: senac1\n"
          ]
        }
      ]
    },
    {
      "cell_type": "code",
      "source": [
        "if ( cupom == 'aula1' or cupom == 'aula2'):\n",
        "  print ('você ganhou 15% de desconto')\n",
        "else:\n",
        "  print('você ganhou 5% de desconto')"
      ],
      "metadata": {
        "colab": {
          "base_uri": "https://localhost:8080/"
        },
        "id": "dGeshaHoikr1",
        "outputId": "ed4e3ee1-22c1-44ee-d3c3-87fd236f6d4f"
      },
      "execution_count": null,
      "outputs": [
        {
          "output_type": "stream",
          "name": "stdout",
          "text": [
            "você ganhou 5% de desconto\n"
          ]
        }
      ]
    },
    {
      "cell_type": "code",
      "source": [
        "cupom1 = input('Digite o cupom: ')"
      ],
      "metadata": {
        "colab": {
          "base_uri": "https://localhost:8080/"
        },
        "id": "xXtYnIsmmZxe",
        "outputId": "4c881c0c-ff14-414e-e5f1-c72d05ecf829"
      },
      "execution_count": null,
      "outputs": [
        {
          "name": "stdout",
          "output_type": "stream",
          "text": [
            "Digite o cupom: aula1\n"
          ]
        }
      ]
    },
    {
      "cell_type": "markdown",
      "source": [
        "**Desafio 3**"
      ],
      "metadata": {
        "id": "z-WZZxB1rQog"
      }
    },
    {
      "cell_type": "code",
      "source": [
        "if( cupom1 == 'aula1'):\n",
        "   print('você ganhou 15% de desconto')\n",
        "elif ( cupom1 == 'aula2'):\n",
        "     print('você ganhou 10% de desconto')\n",
        "else:\n",
        "  print('você ganhou 5% de desconto')\n",
        "\n",
        "print ('fim')"
      ],
      "metadata": {
        "colab": {
          "base_uri": "https://localhost:8080/"
        },
        "id": "h8sAse-hpVNx",
        "outputId": "b83285c2-3cc6-4e74-bfa9-745bfc9adb2f"
      },
      "execution_count": null,
      "outputs": [
        {
          "output_type": "stream",
          "name": "stdout",
          "text": [
            "você ganhou 15% de desconto\n",
            "fim\n"
          ]
        }
      ]
    },
    {
      "cell_type": "code",
      "source": [
        "if ( 1==1): \n",
        "  print ('Mensagem no  segundo nível')\n",
        "  if ((1==2) == False):\n",
        "   print('mensagem terceiro nivel')"
      ],
      "metadata": {
        "colab": {
          "base_uri": "https://localhost:8080/"
        },
        "id": "GyDt1mRPonUy",
        "outputId": "3f900e24-06ff-46f9-de27-f9b30951ced4"
      },
      "execution_count": null,
      "outputs": [
        {
          "output_type": "stream",
          "name": "stdout",
          "text": [
            "Mensagem no  segundo nível\n",
            "mensagem terceiro nivel\n"
          ]
        }
      ]
    },
    {
      "cell_type": "markdown",
      "source": [
        "**Desafio 4**"
      ],
      "metadata": {
        "id": "j0VBk3bxrVeI"
      }
    },
    {
      "cell_type": "code",
      "source": [
        "hoje = input('digite se hoje estar sol ou chuvendo: ')\n",
        "dinheiro = input(' você tem dinheiro hoje: ')"
      ],
      "metadata": {
        "colab": {
          "base_uri": "https://localhost:8080/"
        },
        "id": "Ix2sKzk_qjF8",
        "outputId": "1613909e-6c4f-4767-e36d-47dc1e779217"
      },
      "execution_count": null,
      "outputs": [
        {
          "name": "stdout",
          "output_type": "stream",
          "text": [
            "digite se hoje estar sol ou chuvendo: sol\n",
            " você tem dinheiro hoje: sim\n"
          ]
        }
      ]
    },
    {
      "cell_type": "code",
      "source": [
        "if ( hoje== 'sol' and 'sim'):\n",
        "  print(' Hoje deu praia!')\n",
        "else:\n",
        "  print('hoje vai netflix em casa!')"
      ],
      "metadata": {
        "colab": {
          "base_uri": "https://localhost:8080/"
        },
        "id": "mWrPMBzNruHr",
        "outputId": "fb82d49f-19c8-457b-cbe0-afd091c3ae65"
      },
      "execution_count": null,
      "outputs": [
        {
          "output_type": "stream",
          "name": "stdout",
          "text": [
            " Hoje deu praia!\n"
          ]
        }
      ]
    },
    {
      "cell_type": "code",
      "source": [
        "hoje = input('digite se hoje estar sol ou chuvendo: ')\n",
        "dinheiro = input(' você tem dinheiro hoje: ')"
      ],
      "metadata": {
        "colab": {
          "base_uri": "https://localhost:8080/"
        },
        "id": "odwwx29rzLqY",
        "outputId": "ffcaa9de-01e9-41fa-9e91-a496e9d59173"
      },
      "execution_count": null,
      "outputs": [
        {
          "name": "stdout",
          "output_type": "stream",
          "text": [
            "digite se hoje estar sol ou chuvendo: sol\n",
            " você tem dinheiro hoje: sim\n"
          ]
        }
      ]
    },
    {
      "cell_type": "markdown",
      "source": [
        "**Desafio 5**\n"
      ],
      "metadata": {
        "id": "fb_GHdfAzloA"
      }
    },
    {
      "cell_type": "code",
      "source": [
        "if ( hoje== 'sol' or 'sim'):\n",
        "  print(' Hoje deu praia!')\n",
        "else:\n",
        "  print('hoje vai netflix em casa!')"
      ],
      "metadata": {
        "colab": {
          "base_uri": "https://localhost:8080/"
        },
        "id": "7npq_VWFzBEE",
        "outputId": "6130b6fc-941c-4a04-bf3b-a90a0bcffda3"
      },
      "execution_count": null,
      "outputs": [
        {
          "output_type": "stream",
          "name": "stdout",
          "text": [
            " Hoje deu praia!\n"
          ]
        }
      ]
    },
    {
      "cell_type": "code",
      "source": [
        "hoje = input('digite se hoje estar sol ou chuvendo: ')\n",
        "dinheiro = input(' você tem dinheiro hoje: ')"
      ],
      "metadata": {
        "colab": {
          "base_uri": "https://localhost:8080/"
        },
        "id": "EYtiTO9OzYPi",
        "outputId": "faf38ef1-833f-42d5-8ccd-0bb605637d18"
      },
      "execution_count": null,
      "outputs": [
        {
          "name": "stdout",
          "output_type": "stream",
          "text": [
            "digite se hoje estar sol ou chuvendo: sim\n",
            " você tem dinheiro hoje: nao\n"
          ]
        }
      ]
    },
    {
      "cell_type": "code",
      "source": [
        "if ( hoje== 'sol' ):\n",
        "    if (dinheiro == 'sim'):\n",
        "      print(' Hoje deu praia!')\n",
        "    else: \n",
        "      print('hoje vai fica em casa!')\n",
        "else:\n",
        "  print('hoje vai netflix em casa!')"
      ],
      "metadata": {
        "colab": {
          "base_uri": "https://localhost:8080/"
        },
        "id": "jYuIp6hjzy3a",
        "outputId": "1b35e24a-f732-4e5d-9ccc-7a3f5b03390e"
      },
      "execution_count": null,
      "outputs": [
        {
          "output_type": "stream",
          "name": "stdout",
          "text": [
            "hoje vai netflix em casa!\n"
          ]
        }
      ]
    },
    {
      "cell_type": "code",
      "source": [
        "x = 4\n",
        "0>x<5"
      ],
      "metadata": {
        "colab": {
          "base_uri": "https://localhost:8080/"
        },
        "id": "zNERlKzP0vOX",
        "outputId": "aa2a4176-a21e-4016-f3f4-e903d43a7b0b"
      },
      "execution_count": null,
      "outputs": [
        {
          "output_type": "execute_result",
          "data": {
            "text/plain": [
              "False"
            ]
          },
          "metadata": {},
          "execution_count": 98
        }
      ]
    },
    {
      "cell_type": "markdown",
      "source": [
        "**Desafio 6** Prática"
      ],
      "metadata": {
        "id": "4Aj1_PgW5-SH"
      }
    },
    {
      "cell_type": "code",
      "source": [
        "ano = input('Digite ano de fabricação do carro: ')\n",
        "preco = 1500\n"
      ],
      "metadata": {
        "colab": {
          "base_uri": "https://localhost:8080/"
        },
        "id": "4eKvesPF585X",
        "outputId": "c66e3846-8f53-4c7c-a327-4ce22f390800"
      },
      "execution_count": null,
      "outputs": [
        {
          "name": "stdout",
          "output_type": "stream",
          "text": [
            "Digite ano de fabricação do carro: 1992\n"
          ]
        }
      ]
    },
    {
      "cell_type": "code",
      "source": [
        "if ( ano < '1990'):\n",
        "  desconto1 = (1 * 100) /100\n",
        "  total1 = preco - desconto1\n",
        "  print ( 'Você terá o desconto no valor R$: ',desconto1,' % , pagará o total R$:', total1)\n",
        "else:\n",
        "  desconto2 = (1.5 * 100)/100\n",
        "  total2 = preco - desconto2\n",
        "  print ( 'Você terá o desconto no valor R$: ',desconto2, ' % , pagará o total R$:', total2)\n"
      ],
      "metadata": {
        "colab": {
          "base_uri": "https://localhost:8080/"
        },
        "id": "4P7Xyc8s6riA",
        "outputId": "684a8a66-1cbd-4e36-9d54-809d66d40d13"
      },
      "execution_count": null,
      "outputs": [
        {
          "output_type": "stream",
          "name": "stdout",
          "text": [
            "Você terá o desconto no valor R$:  1.5  % , pagará o total R$: 1498.5\n"
          ]
        }
      ]
    },
    {
      "cell_type": "code",
      "source": [
        "salario = float(input('Qual o valor do seu salário: '))\n",
        "cargo = input(' Qual o  seu cargo: ')"
      ],
      "metadata": {
        "colab": {
          "base_uri": "https://localhost:8080/"
        },
        "id": "3ty_C_D8-84a",
        "outputId": "9f70eb31-54cd-4bff-decc-0b1df005704b"
      },
      "execution_count": null,
      "outputs": [
        {
          "name": "stdout",
          "output_type": "stream",
          "text": [
            "Qual o valor do seu salário: 1500\n",
            " Qual o  seu cargo: gerente\n"
          ]
        }
      ]
    },
    {
      "cell_type": "code",
      "source": [
        "if ( cargo == ' gerente'):\n",
        "  novo_salario = salario + (0.10 * 100)\n",
        "  des_sal = salario - novo_salario\n",
        "  print (' Seu salário é  R$', salario, '\\n receberá agora o valor R$', novo_salario,'\\n seu aumento foi R$',des_sal)\n",
        "\n",
        "elif ( cargo == 'engenheiro'):\n",
        "  novo_salario = salario + (0.20 * 100)\n",
        "  des_sal = novo_salario - salario\n",
        "  print (' Seu salário é  R$', salario, '\\n receberá agora o valor R$', novo_salario,'\\n seu aumento foi R$',des_sal)\n",
        "\n",
        "elif ( cargo == 'tecnico'):\n",
        "  novo_salario = salario + (0.30 * 100) \n",
        "  des_sal = novo_salario - salario\n",
        "  print (' Seu salário é  R$', salario, '\\n receberá agora o valor R$', novo_salario,'\\n seu aumento foi R$',des_sal)\n",
        "\n",
        "else:\n",
        "  novo_salario = salario + (0.40 * 100)\n",
        "  des_sal = salario - novo_salario\n",
        "  print (' Seu salário é  R$', salario, '\\n receberá agora o valor R$', novo_salario,'\\n seu aumento foi R$',des_sal)"
      ],
      "metadata": {
        "colab": {
          "base_uri": "https://localhost:8080/"
        },
        "id": "QCxsLmS3_tNQ",
        "outputId": "e52f07c2-f90f-4e00-d22d-a80d9891b004"
      },
      "execution_count": null,
      "outputs": [
        {
          "output_type": "stream",
          "name": "stdout",
          "text": [
            " Seu salário é  R$ 1500.0 \n",
            " receberá agora o valor R$ 1540.0 \n",
            " seu aumento foi R$ -40.0\n"
          ]
        }
      ]
    },
    {
      "cell_type": "code",
      "source": [
        "salario = float(input('Qual o valor do seu salário: '))\n",
        "cargo = input(' Qual o  seu cargo: ')"
      ],
      "metadata": {
        "colab": {
          "base_uri": "https://localhost:8080/"
        },
        "id": "47z9uRYddrjf",
        "outputId": "99166f02-b746-4608-acb3-396af8e34bc0"
      },
      "execution_count": 1,
      "outputs": [
        {
          "name": "stdout",
          "output_type": "stream",
          "text": [
            "Qual o valor do seu salário: 1500\n",
            " Qual o  seu cargo: gerente\n"
          ]
        }
      ]
    },
    {
      "cell_type": "code",
      "source": [
        "if ( cargo == ' gerente'):\n",
        "  novo_salario = salario + (0.10 * 100)\n",
        "  des_sal = salario - novo_salario\n",
        "  \n",
        "elif ( cargo == 'engenheiro'):\n",
        "  novo_salario = salario + (0.20 * 100)\n",
        "  des_sal = novo_salario - salario\n",
        " \n",
        "elif ( cargo == 'tecnico'):\n",
        "  novo_salario = salario + (0.30 * 100) \n",
        "  des_sal = novo_salario - salario\n",
        "  \n",
        "  print (' Seu salário é  R$', salario, '\\n receberá agora o valor R$', novo_salario,'\\n seu aumento foi R$',des_sal)\n",
        "\n",
        "else:\n",
        "  novo_salario = salario + (0.40 * 100)\n",
        "  des_sal = salario - novo_salario\n",
        "  print (' Seu salário é  R$', salario, '\\n receberá agora o valor R$', novo_salario,'\\n seu aumento foi R$',des_sal)"
      ],
      "metadata": {
        "colab": {
          "base_uri": "https://localhost:8080/"
        },
        "id": "xNFtxd5odlMo",
        "outputId": "43820737-efcc-4319-e2d2-5cadee4830e4"
      },
      "execution_count": 3,
      "outputs": [
        {
          "output_type": "stream",
          "name": "stdout",
          "text": [
            " Seu salário é  R$ 1500.0 \n",
            " receberá agora o valor R$ 1540.0 \n",
            " seu aumento foi R$ -40.0\n"
          ]
        }
      ]
    }
  ]
}